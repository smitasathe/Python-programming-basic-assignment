{
 "cells": [
  {
   "cell_type": "markdown",
   "id": "cd73ac41",
   "metadata": {},
   "source": [
    "1.\tWrite a Python Program to Find LCM?"
   ]
  },
  {
   "cell_type": "code",
   "execution_count": 1,
   "id": "8ab51885",
   "metadata": {},
   "outputs": [
    {
     "name": "stdout",
     "output_type": "stream",
     "text": [
      "Enter first number : 12\n",
      "Enter second number : 23\n",
      "The LCM is  276\n"
     ]
    }
   ],
   "source": [
    "def lcm(x, y):\n",
    "    if x > y:\n",
    "        greater = x\n",
    "    else:\n",
    "        greater = y\n",
    "    while True:\n",
    "        if (greater % x == 0) and (greater % y == 0):\n",
    "            lcm = greater\n",
    "            break\n",
    "        greater = greater + 1\n",
    "    return lcm\n",
    "\n",
    "x = int(input(\"Enter first number : \"))\n",
    "y = int(input(\"Enter second number : \"))\n",
    "\n",
    "print(\"The LCM is \", lcm(x, y))\n"
   ]
  },
  {
   "cell_type": "markdown",
   "id": "2c0391b6",
   "metadata": {},
   "source": [
    "2.\tWrite a Python Program to Find HCF?"
   ]
  },
  {
   "cell_type": "code",
   "execution_count": null,
   "id": "28f38283",
   "metadata": {},
   "outputs": [],
   "source": []
  },
  {
   "cell_type": "markdown",
   "id": "0b347481",
   "metadata": {},
   "source": [
    "3.\tWrite a Python Program to Convert Decimal to Binary, Octal and Hexadecimal?"
   ]
  },
  {
   "cell_type": "code",
   "execution_count": 2,
   "id": "3dab7472",
   "metadata": {},
   "outputs": [
    {
     "name": "stdout",
     "output_type": "stream",
     "text": [
      "Enter a decimal number122\n",
      "The decimal value of  122 is : \n",
      "0b1111010 is in binary\n",
      "0o172 is in octal\n",
      "0x7a is in hexadecimal\n"
     ]
    }
   ],
   "source": [
    "dec = int(input(\"Enter a decimal number\"))\n",
    "\n",
    "print(\"The decimal value of \", dec, \"is : \")\n",
    "print(bin(dec), \"is in binary\")\n",
    "print(oct(dec), \"is in octal\")\n",
    "print(hex(dec), \"is in hexadecimal\")"
   ]
  },
  {
   "cell_type": "markdown",
   "id": "d1147e79",
   "metadata": {},
   "source": [
    "4.\tWrite a Python Program To Find ASCII value of a character?"
   ]
  },
  {
   "cell_type": "code",
   "execution_count": 3,
   "id": "55991702",
   "metadata": {},
   "outputs": [
    {
     "name": "stdout",
     "output_type": "stream",
     "text": [
      "Enter Character to know its ASCII valuek\n",
      "The ASCII value of  k  is :  107\n"
     ]
    }
   ],
   "source": [
    "a = input(\"Enter Character to know its ASCII value\")\n",
    "\n",
    "asci = ord(a)\n",
    "\n",
    "print(\"The ASCII value of \", a, \" is : \", asci)"
   ]
  },
  {
   "cell_type": "markdown",
   "id": "1432fbc3",
   "metadata": {},
   "source": [
    "5.\tWrite a Python Program to Make a Simple Calculator with 4 basic mathematical operations?"
   ]
  },
  {
   "cell_type": "code",
   "execution_count": 5,
   "id": "6ad694fb",
   "metadata": {},
   "outputs": [
    {
     "name": "stdout",
     "output_type": "stream",
     "text": [
      "Select Operation\n",
      "1. Add\n",
      "2. Subtract\n",
      "3. Multiply\n",
      "4. Divide\n",
      "Enter your choice - 1/2/3/4 : 1\n",
      "Enter first number : 12\n",
      "Enter second number : 656534\n",
      "12.0 + 656534.0 656546.0\n",
      "lets do next calculation? (yes/no): yes\n",
      "Enter your choice - 1/2/3/4 : 4\n",
      "Enter first number : 5000\n",
      "Enter second number : 50\n",
      "5000.0 / 50.0 100.0\n",
      "lets do next calculation? (yes/no): no\n"
     ]
    }
   ],
   "source": [
    "def add(x, y):\n",
    "    return x + y\n",
    "\n",
    "\n",
    "def subtract(x, y):\n",
    "    return x - y\n",
    "\n",
    "\n",
    "def multiply(x, y):\n",
    "    return x * y\n",
    "\n",
    "\n",
    "def divide(x, y):\n",
    "    return x / y\n",
    "\n",
    "print(\"Select Operation\")\n",
    "print(\"1. Add\")\n",
    "print(\"2. Subtract\")\n",
    "print(\"3. Multiply\")\n",
    "print(\"4. Divide\")\n",
    "\n",
    "while True:\n",
    "    choice = input(\"Enter your choice - 1/2/3/4 : \")\n",
    "    if choice in ('1', '2', '3', '4'):\n",
    "        x = float(input(\"Enter first number : \"))\n",
    "        y = float(input(\"Enter second number : \"))\n",
    "        if choice == '1':\n",
    "            print(x, \"+\", y, add(x, y))\n",
    "        if choice == '2':\n",
    "            print(x, \"-\", y, subtract(x, y))\n",
    "        if choice == '3':\n",
    "            print(x, \"*\", y, multiply(x, y))\n",
    "        if choice == '4':\n",
    "            print(x, \"/\", y, divide(x,y))\n",
    "    next_calculation = input(\"lets do next calculation? (yes/no): \")\n",
    "    if next_calculation == \"no\":\n",
    "        break\n",
    "else:\n",
    "    print(\"Invalid input\")"
   ]
  },
  {
   "cell_type": "code",
   "execution_count": null,
   "id": "3ed8ff32",
   "metadata": {},
   "outputs": [],
   "source": []
  }
 ],
 "metadata": {
  "kernelspec": {
   "display_name": "Python 3",
   "language": "python",
   "name": "python3"
  },
  "language_info": {
   "codemirror_mode": {
    "name": "ipython",
    "version": 3
   },
   "file_extension": ".py",
   "mimetype": "text/x-python",
   "name": "python",
   "nbconvert_exporter": "python",
   "pygments_lexer": "ipython3",
   "version": "3.6.15"
  }
 },
 "nbformat": 4,
 "nbformat_minor": 5
}
