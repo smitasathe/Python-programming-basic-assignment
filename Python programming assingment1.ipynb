{
 "cells": [
  {
   "cell_type": "code",
   "execution_count": 2,
   "id": "ac7731da",
   "metadata": {},
   "outputs": [
    {
     "name": "stdout",
     "output_type": "stream",
     "text": [
      "Hello Python\n"
     ]
    }
   ],
   "source": [
    "#1. print \"Hello Python\"\n",
    "print(\"Hello Python\")"
   ]
  },
  {
   "cell_type": "code",
   "execution_count": 11,
   "id": "2afdd081",
   "metadata": {},
   "outputs": [
    {
     "name": "stdout",
     "output_type": "stream",
     "text": [
      "Input number x : 20\n",
      "Input number y : 2\n",
      "Additional of two numbers : 22\n",
      "Division of two numbers : 10.0\n"
     ]
    }
   ],
   "source": [
    "#2. Arithmetical operations addition and division\n",
    "x = int(input(\"Input number x : \"))\n",
    "y = int(input(\"Input number y : \"))\n",
    "z = x+y\n",
    "print(\"Additional of two numbers :\", z)\n",
    "a = x/y\n",
    "print(\"Division of two numbers :\", a)"
   ]
  },
  {
   "cell_type": "code",
   "execution_count": 12,
   "id": "f5f3595c",
   "metadata": {
    "scrolled": true
   },
   "outputs": [
    {
     "name": "stdout",
     "output_type": "stream",
     "text": [
      "Enter base of a triangle : 200\n",
      "Enter height of a triangle : 22\n",
      "Area of a triangle is : 2200.0\n"
     ]
    }
   ],
   "source": [
    "#3. Area of a triangle\n",
    "x = int(input(\"Enter base of a triangle : \"))\n",
    "y = int(input(\"Enter height of a triangle : \"))\n",
    "a = (x*y)/2\n",
    "print(\"Area of a triangle is :\", a)"
   ]
  },
  {
   "cell_type": "code",
   "execution_count": 7,
   "id": "17c8031c",
   "metadata": {
    "scrolled": true
   },
   "outputs": [
    {
     "name": "stdout",
     "output_type": "stream",
     "text": [
      "Enter value of x: 100\n",
      "Enter value of y : 200\n",
      "The value of x after swaping :  200\n",
      "The value of y after swaping :  100\n"
     ]
    }
   ],
   "source": [
    "#4. Swap two variables\n",
    "x = int(input(\"Enter value of x: \"))\n",
    "y = int(input(\"Enter value of y : \"))\n",
    "temp = x\n",
    "x = y\n",
    "y = temp\n",
    "print(\"The value of x after swaping : \",x)\n",
    "print(\"The value of y after swaping : \", y)"
   ]
  },
  {
   "cell_type": "code",
   "execution_count": 10,
   "id": "db98a023",
   "metadata": {},
   "outputs": [
    {
     "name": "stdout",
     "output_type": "stream",
     "text": [
      "0.6141976465280121\n"
     ]
    }
   ],
   "source": [
    "#5. Generate a random number\n",
    "import random\n",
    "n = random.random()\n",
    "print(n)"
   ]
  },
  {
   "cell_type": "code",
   "execution_count": null,
   "id": "5c78d8ae",
   "metadata": {},
   "outputs": [],
   "source": []
  }
 ],
 "metadata": {
  "kernelspec": {
   "display_name": "Python 3",
   "language": "python",
   "name": "python3"
  },
  "language_info": {
   "codemirror_mode": {
    "name": "ipython",
    "version": 3
   },
   "file_extension": ".py",
   "mimetype": "text/x-python",
   "name": "python",
   "nbconvert_exporter": "python",
   "pygments_lexer": "ipython3",
   "version": "3.6.13"
  }
 },
 "nbformat": 4,
 "nbformat_minor": 5
}
