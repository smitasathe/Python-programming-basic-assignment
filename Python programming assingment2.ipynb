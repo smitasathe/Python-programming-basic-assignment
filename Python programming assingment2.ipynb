{
 "cells": [
  {
   "cell_type": "markdown",
   "id": "04452950",
   "metadata": {},
   "source": [
    "# 1.\tWrite a Python program to convert kilometers to miles?"
   ]
  },
  {
   "cell_type": "code",
   "execution_count": 3,
   "id": "49679ede",
   "metadata": {},
   "outputs": [
    {
     "name": "stdout",
     "output_type": "stream",
     "text": [
      "Enter kilometers : 10\n",
      "Kilometer to miles : 6.22 \n"
     ]
    }
   ],
   "source": [
    "km = int(input(\"Enter kilometers : \"))\n",
    "miles = km / 1.609\n",
    "print(\"Kilometer to miles : %0.2f \" %miles)"
   ]
  },
  {
   "cell_type": "markdown",
   "id": "e64f9e36",
   "metadata": {},
   "source": [
    "# 2.\tWrite a Python program to convert Celsius to Fahrenheit?"
   ]
  },
  {
   "cell_type": "code",
   "execution_count": 8,
   "id": "0ef1769e",
   "metadata": {},
   "outputs": [
    {
     "name": "stdout",
     "output_type": "stream",
     "text": [
      "Enter temperature in celsius : 31\n",
      "Celsius to Fahrenheit is :  87.80\n"
     ]
    }
   ],
   "source": [
    "celsius = int(input(\"Enter temperature in celsius : \"))\n",
    "far = celsius * (9/5) + 32\n",
    "print(\"Celsius to Fahrenheit is : % 0.2f\" %far)"
   ]
  },
  {
   "cell_type": "markdown",
   "id": "79a918cd",
   "metadata": {},
   "source": [
    "# 3.\tWrite a Python program to display calendar?"
   ]
  },
  {
   "cell_type": "code",
   "execution_count": 14,
   "id": "c8732928",
   "metadata": {},
   "outputs": [
    {
     "name": "stdout",
     "output_type": "stream",
     "text": [
      "Enter year : 2022\n",
      "Enter month : 1\n",
      "    January 2022\n",
      "Mo Tu We Th Fr Sa Su\n",
      "                1  2\n",
      " 3  4  5  6  7  8  9\n",
      "10 11 12 13 14 15 16\n",
      "17 18 19 20 21 22 23\n",
      "24 25 26 27 28 29 30\n",
      "31\n",
      "\n"
     ]
    }
   ],
   "source": [
    "import calendar\n",
    "year = int(input(\"Enter year : \"))\n",
    "month = int(input(\"Enter month : \"))\n",
    "print(calendar.month(year,month))"
   ]
  },
  {
   "cell_type": "markdown",
   "id": "f3e72e27",
   "metadata": {},
   "source": [
    "# 4.\tWrite a Python program to solve quadratic equation? ax2 + bx + c = 0"
   ]
  },
  {
   "cell_type": "code",
   "execution_count": 19,
   "id": "e74a7892",
   "metadata": {},
   "outputs": [
    {
     "name": "stdout",
     "output_type": "stream",
     "text": [
      "Enter variable a : 2\n",
      "Enter variable b : 3\n",
      "Enter variable c : 4\n",
      "The solution for quadratic equation is :  (-0.75-1.1989578808281798j)  and  (-0.75+1.1989578808281798j)\n"
     ]
    }
   ],
   "source": [
    "import cmath\n",
    "a = int(input(\"Enter variable a : \"))\n",
    "b = int(input(\"Enter variable b : \"))\n",
    "c = int(input(\"Enter variable c : \"))\n",
    "d = (b**2) - (4*a*c)\n",
    "solution1 = (-b - (cmath.sqrt(d)))/(2*a)\n",
    "solution2 = (-b + (cmath.sqrt(d)))/(2*a)\n",
    "print(\"The solution for quadratic equation is : \",(solution1),\" and \",(solution2))"
   ]
  },
  {
   "cell_type": "markdown",
   "id": "02b08a64",
   "metadata": {},
   "source": [
    "# 5.\tWrite a Python program to swap two variables without temp variable?"
   ]
  },
  {
   "cell_type": "code",
   "execution_count": 22,
   "id": "0809ed00",
   "metadata": {},
   "outputs": [
    {
     "name": "stdout",
     "output_type": "stream",
     "text": [
      "Enter variable a : 32323\n",
      "Enter variable b : 434\n",
      "Before swapping : \n",
      "Value of a : 32323  Value of b : 434\n",
      "After swapping : \n",
      "Value of a : 434  Value of b : 32323\n"
     ]
    }
   ],
   "source": [
    "a = int(input(\"Enter variable a : \"))\n",
    "b = int(input(\"Enter variable b : \"))\n",
    "print(\"Before swapping : \")\n",
    "print(\"Value of a :\", a, \" Value of b :\",b)\n",
    "a,b = b,a\n",
    "print(\"After swapping : \")\n",
    "print(\"Value of a :\", a, \" Value of b :\",b)"
   ]
  },
  {
   "cell_type": "code",
   "execution_count": null,
   "id": "0e2686f9",
   "metadata": {},
   "outputs": [],
   "source": []
  }
 ],
 "metadata": {
  "kernelspec": {
   "display_name": "Python 3",
   "language": "python",
   "name": "python3"
  },
  "language_info": {
   "codemirror_mode": {
    "name": "ipython",
    "version": 3
   },
   "file_extension": ".py",
   "mimetype": "text/x-python",
   "name": "python",
   "nbconvert_exporter": "python",
   "pygments_lexer": "ipython3",
   "version": "3.6.13"
  }
 },
 "nbformat": 4,
 "nbformat_minor": 5
}
